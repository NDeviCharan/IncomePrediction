{
 "cells": [
  {
   "cell_type": "code",
   "execution_count": 2,
   "id": "70812cf6",
   "metadata": {},
   "outputs": [],
   "source": [
    "import pandas as pd\n",
    "import numpy as np\n",
    "import matplotlib.pyplot as plt"
   ]
  },
  {
   "cell_type": "code",
   "execution_count": 3,
   "id": "6f2167ca",
   "metadata": {},
   "outputs": [
    {
     "data": {
      "text/html": [
       "<div>\n",
       "<style scoped>\n",
       "    .dataframe tbody tr th:only-of-type {\n",
       "        vertical-align: middle;\n",
       "    }\n",
       "\n",
       "    .dataframe tbody tr th {\n",
       "        vertical-align: top;\n",
       "    }\n",
       "\n",
       "    .dataframe thead th {\n",
       "        text-align: right;\n",
       "    }\n",
       "</style>\n",
       "<table border=\"1\" class=\"dataframe\">\n",
       "  <thead>\n",
       "    <tr style=\"text-align: right;\">\n",
       "      <th></th>\n",
       "      <th>Age</th>\n",
       "      <th>Workclass</th>\n",
       "      <th>Fnlwgt</th>\n",
       "      <th>Education</th>\n",
       "      <th>education_num</th>\n",
       "      <th>martial_status</th>\n",
       "      <th>occupation</th>\n",
       "      <th>relationship</th>\n",
       "      <th>race</th>\n",
       "      <th>sex</th>\n",
       "      <th>capital_gain</th>\n",
       "      <th>capital_loss</th>\n",
       "      <th>hours_per_week</th>\n",
       "      <th>native_country</th>\n",
       "      <th>income</th>\n",
       "    </tr>\n",
       "  </thead>\n",
       "  <tbody>\n",
       "    <tr>\n",
       "      <th>0</th>\n",
       "      <td>39</td>\n",
       "      <td>State-gov</td>\n",
       "      <td>77516</td>\n",
       "      <td>Bachelors</td>\n",
       "      <td>13</td>\n",
       "      <td>Never-married</td>\n",
       "      <td>Adm-clerical</td>\n",
       "      <td>Not-in-family</td>\n",
       "      <td>White</td>\n",
       "      <td>Male</td>\n",
       "      <td>2174</td>\n",
       "      <td>0</td>\n",
       "      <td>40</td>\n",
       "      <td>United-States</td>\n",
       "      <td>&lt;=50K</td>\n",
       "    </tr>\n",
       "    <tr>\n",
       "      <th>1</th>\n",
       "      <td>50</td>\n",
       "      <td>Self-emp-not-inc</td>\n",
       "      <td>83311</td>\n",
       "      <td>Bachelors</td>\n",
       "      <td>13</td>\n",
       "      <td>Married-civ-spouse</td>\n",
       "      <td>Exec-managerial</td>\n",
       "      <td>Husband</td>\n",
       "      <td>White</td>\n",
       "      <td>Male</td>\n",
       "      <td>0</td>\n",
       "      <td>0</td>\n",
       "      <td>13</td>\n",
       "      <td>United-States</td>\n",
       "      <td>&lt;=50K</td>\n",
       "    </tr>\n",
       "    <tr>\n",
       "      <th>2</th>\n",
       "      <td>38</td>\n",
       "      <td>Private</td>\n",
       "      <td>215646</td>\n",
       "      <td>HS-grad</td>\n",
       "      <td>9</td>\n",
       "      <td>Divorced</td>\n",
       "      <td>Handlers-cleaners</td>\n",
       "      <td>Not-in-family</td>\n",
       "      <td>White</td>\n",
       "      <td>Male</td>\n",
       "      <td>0</td>\n",
       "      <td>0</td>\n",
       "      <td>40</td>\n",
       "      <td>United-States</td>\n",
       "      <td>&lt;=50K</td>\n",
       "    </tr>\n",
       "    <tr>\n",
       "      <th>3</th>\n",
       "      <td>53</td>\n",
       "      <td>Private</td>\n",
       "      <td>234721</td>\n",
       "      <td>11th</td>\n",
       "      <td>7</td>\n",
       "      <td>Married-civ-spouse</td>\n",
       "      <td>Handlers-cleaners</td>\n",
       "      <td>Husband</td>\n",
       "      <td>Black</td>\n",
       "      <td>Male</td>\n",
       "      <td>0</td>\n",
       "      <td>0</td>\n",
       "      <td>40</td>\n",
       "      <td>United-States</td>\n",
       "      <td>&lt;=50K</td>\n",
       "    </tr>\n",
       "    <tr>\n",
       "      <th>4</th>\n",
       "      <td>28</td>\n",
       "      <td>Private</td>\n",
       "      <td>338409</td>\n",
       "      <td>Bachelors</td>\n",
       "      <td>13</td>\n",
       "      <td>Married-civ-spouse</td>\n",
       "      <td>Prof-specialty</td>\n",
       "      <td>Wife</td>\n",
       "      <td>Black</td>\n",
       "      <td>Female</td>\n",
       "      <td>0</td>\n",
       "      <td>0</td>\n",
       "      <td>40</td>\n",
       "      <td>Cuba</td>\n",
       "      <td>&lt;=50K</td>\n",
       "    </tr>\n",
       "  </tbody>\n",
       "</table>\n",
       "</div>"
      ],
      "text/plain": [
       "   Age          Workclass  Fnlwgt   Education  education_num  \\\n",
       "0   39          State-gov   77516   Bachelors             13   \n",
       "1   50   Self-emp-not-inc   83311   Bachelors             13   \n",
       "2   38            Private  215646     HS-grad              9   \n",
       "3   53            Private  234721        11th              7   \n",
       "4   28            Private  338409   Bachelors             13   \n",
       "\n",
       "        martial_status          occupation    relationship    race      sex  \\\n",
       "0        Never-married        Adm-clerical   Not-in-family   White     Male   \n",
       "1   Married-civ-spouse     Exec-managerial         Husband   White     Male   \n",
       "2             Divorced   Handlers-cleaners   Not-in-family   White     Male   \n",
       "3   Married-civ-spouse   Handlers-cleaners         Husband   Black     Male   \n",
       "4   Married-civ-spouse      Prof-specialty            Wife   Black   Female   \n",
       "\n",
       "   capital_gain  capital_loss  hours_per_week  native_country  income  \n",
       "0          2174             0              40   United-States   <=50K  \n",
       "1             0             0              13   United-States   <=50K  \n",
       "2             0             0              40   United-States   <=50K  \n",
       "3             0             0              40   United-States   <=50K  \n",
       "4             0             0              40            Cuba   <=50K  "
      ]
     },
     "execution_count": 3,
     "metadata": {},
     "output_type": "execute_result"
    }
   ],
   "source": [
    "lc = ['Age','Workclass','Fnlwgt','Education','education_num','martial_status','occupation','relationship','race',\n",
    "      'sex','capital_gain','capital_loss','hours_per_week','native_country','income']\n",
    "df = pd.read_csv('adult.csv',names=lc)\n",
    "df.head()"
   ]
  },
  {
   "cell_type": "code",
   "execution_count": 4,
   "id": "2c09c4c9",
   "metadata": {},
   "outputs": [
    {
     "data": {
      "text/plain": [
       "Age               False\n",
       "Workclass          True\n",
       "Fnlwgt            False\n",
       "Education         False\n",
       "education_num     False\n",
       "martial_status    False\n",
       "occupation         True\n",
       "relationship      False\n",
       "race              False\n",
       "sex               False\n",
       "capital_gain      False\n",
       "capital_loss      False\n",
       "hours_per_week    False\n",
       "native_country     True\n",
       "income            False\n",
       "dtype: bool"
      ]
     },
     "execution_count": 4,
     "metadata": {},
     "output_type": "execute_result"
    }
   ],
   "source": [
    "df.isin([' ?']).any()"
   ]
  },
  {
   "cell_type": "code",
   "execution_count": 5,
   "id": "6706d05d",
   "metadata": {},
   "outputs": [
    {
     "data": {
      "text/plain": [
       " <=50K    24720\n",
       " >50K      7841\n",
       "Name: income, dtype: int64"
      ]
     },
     "execution_count": 5,
     "metadata": {},
     "output_type": "execute_result"
    }
   ],
   "source": [
    "df['Workclass'] = df['Workclass'].replace(' ?',' Private')\n",
    "df['occupation'] = df['occupation'].replace(' ?',' Other-service')\n",
    "df['income'].value_counts()"
   ]
  },
  {
   "cell_type": "code",
   "execution_count": 6,
   "id": "32df4ac9",
   "metadata": {},
   "outputs": [
    {
     "data": {
      "text/plain": [
       "Age                int64\n",
       "Workclass         object\n",
       "Fnlwgt             int64\n",
       "education_num      int64\n",
       "martial_status    object\n",
       "occupation        object\n",
       "relationship      object\n",
       "race              object\n",
       "sex               object\n",
       "capital_gain       int64\n",
       "capital_loss       int64\n",
       "hours_per_week     int64\n",
       "native_country    object\n",
       "income            object\n",
       "dtype: object"
      ]
     },
     "execution_count": 6,
     "metadata": {},
     "output_type": "execute_result"
    }
   ],
   "source": [
    "df['native_country'] = df['native_country'].replace(' ?',' United-States')\n",
    "df.drop('Education', inplace=True, axis=1)\n",
    "df.dtypes"
   ]
  },
  {
   "cell_type": "code",
   "execution_count": 7,
   "id": "a56be409",
   "metadata": {},
   "outputs": [],
   "source": [
    "from sklearn.preprocessing import LabelEncoder\n",
    "lb = LabelEncoder()\n",
    "df['Workclass'] = lb.fit_transform(df['Workclass'])\n",
    "df['martial_status'] = lb.fit_transform(df['martial_status'])\n",
    "df['occupation'] = lb.fit_transform(df['occupation'])\n",
    "df['relationship'] = lb.fit_transform(df['relationship'])\n",
    "df['race'] = lb.fit_transform(df['race'])\n",
    "df['sex'] = lb.fit_transform(df['sex'])\n",
    "df['native_country'] = lb.fit_transform(df['native_country'])\n",
    "df['income'] = lb.fit_transform(df['income'])"
   ]
  },
  {
   "cell_type": "code",
   "execution_count": 8,
   "id": "e43b5666",
   "metadata": {},
   "outputs": [
    {
     "data": {
      "text/plain": [
       "0    24720\n",
       "1     7841\n",
       "Name: income, dtype: int64"
      ]
     },
     "execution_count": 8,
     "metadata": {},
     "output_type": "execute_result"
    }
   ],
   "source": [
    "df['income'].value_counts()"
   ]
  },
  {
   "cell_type": "code",
   "execution_count": 9,
   "id": "7f0403a4",
   "metadata": {},
   "outputs": [
    {
     "data": {
      "image/png": "[encoded data removed]",
      "text/plain": [
       "<Figure size 360x360 with 1 Axes>"
      ]
     },
     "metadata": {},
     "output_type": "display_data"
    }
   ],
   "source": [
    "LabelDist = pd.DataFrame({'Label': [1, 0],'count': [7841,24720]},index=['>50k', '<=50k'])\n",
    "plot = LabelDist.plot.pie(y='count', figsize=(5, 5))"
   ]
  },
  {
   "cell_type": "code",
   "execution_count": 8,
   "id": "c4ec6f44",
   "metadata": {},
   "outputs": [],
   "source": [
    "x = df.iloc[:,:-1]\n",
    "y = df.iloc[:,-1]"
   ]
  },
  {
   "cell_type": "code",
   "execution_count": 9,
   "id": "db4555c3",
   "metadata": {},
   "outputs": [],
   "source": [
    "from sklearn.model_selection import train_test_split\n",
    "from sklearn.tree import DecisionTreeClassifier\n",
    "from sklearn.ensemble import RandomForestClassifier\n",
    "from sklearn.neighbors import KNeighborsClassifier\n",
    "from sklearn.linear_model import LogisticRegression\n",
    "from sklearn.svm import SVC\n",
    "from sklearn.metrics import confusion_matrix,classification_report\n",
    "\n",
    "x_train, x_test, y_train, y_test = train_test_split(x, y, test_size=0.2)"
   ]
  },
  {
   "cell_type": "code",
   "execution_count": 10,
   "id": "27350f80",
   "metadata": {},
   "outputs": [],
   "source": [
    "def apply(model,x_train,x_test,y_train,y_test):\n",
    "    model.fit(x_train,y_train)\n",
    "    y_pred = model.predict(x_test)\n",
    "    print('Predictions\\n',y_pred)\n",
    "    print('Training Score',model.score(x_train,y_train))\n",
    "    print('Testing Score',model.score(x_test,y_test))\n",
    "    CM = confusion_matrix(y_test,y_pred)\n",
    "    print('Confusion_matrix\\n',CM)\n",
    "    print('Classification_report\\n',classification_report(y_test,y_pred))"
   ]
  },
  {
   "cell_type": "code",
   "execution_count": 15,
   "id": "276946fd",
   "metadata": {},
   "outputs": [
    {
     "name": "stdout",
     "output_type": "stream",
     "text": [
      "Predictions\n",
      " [0 0 0 ... 0 0 0]\n",
      "Training Score 0.8759981572481572\n",
      "Testing Score 0.8544449562413634\n",
      "Confusion_matrix\n",
      " [[4616  325]\n",
      " [ 623  949]]\n",
      "Classification_report\n",
      "               precision    recall  f1-score   support\n",
      "\n",
      "           0       0.88      0.93      0.91      4941\n",
      "           1       0.74      0.60      0.67      1572\n",
      "\n",
      "    accuracy                           0.85      6513\n",
      "   macro avg       0.81      0.77      0.79      6513\n",
      "weighted avg       0.85      0.85      0.85      6513\n",
      "\n"
     ]
    }
   ],
   "source": [
    "#Decision Tree\n",
    "m1 = DecisionTreeClassifier(criterion='entropy',max_depth=12,min_samples_split=14)\n",
    "apply(m1,x_train,x_test,y_train,y_test)"
   ]
  },
  {
   "cell_type": "code",
   "execution_count": 16,
   "id": "3ee55588",
   "metadata": {},
   "outputs": [
    {
     "name": "stdout",
     "output_type": "stream",
     "text": [
      "Predictions\n",
      " [0 0 0 ... 0 0 0]\n",
      "Training Score 0.8741170147420148\n",
      "Testing Score 0.8622754491017964\n",
      "Confusion_matrix\n",
      " [[4733  208]\n",
      " [ 689  883]]\n",
      "Classification_report\n",
      "               precision    recall  f1-score   support\n",
      "\n",
      "           0       0.87      0.96      0.91      4941\n",
      "           1       0.81      0.56      0.66      1572\n",
      "\n",
      "    accuracy                           0.86      6513\n",
      "   macro avg       0.84      0.76      0.79      6513\n",
      "weighted avg       0.86      0.86      0.85      6513\n",
      "\n"
     ]
    }
   ],
   "source": [
    "# Random Forest\n",
    "m2 = RandomForestClassifier(n_estimators=100,criterion='entropy',max_depth=12,min_samples_split=14)\n",
    "apply(m2,x_train,x_test,y_train,y_test)"
   ]
  },
  {
   "cell_type": "code",
   "execution_count": 19,
   "id": "318a24bc",
   "metadata": {},
   "outputs": [
    {
     "name": "stdout",
     "output_type": "stream",
     "text": [
      "Predictions\n",
      " [0 0 0 ... 0 0 0]\n",
      "Training Score 0.8015970515970516\n",
      "Testing Score 0.8003992015968064\n",
      "Confusion_matrix\n",
      " [[4901   40]\n",
      " [1260  312]]\n",
      "Classification_report\n",
      "               precision    recall  f1-score   support\n",
      "\n",
      "           0       0.80      0.99      0.88      4941\n",
      "           1       0.89      0.20      0.32      1572\n",
      "\n",
      "    accuracy                           0.80      6513\n",
      "   macro avg       0.84      0.60      0.60      6513\n",
      "weighted avg       0.82      0.80      0.75      6513\n",
      "\n"
     ]
    }
   ],
   "source": [
    "# KNN\n",
    "m3 = KNeighborsClassifier(n_neighbors=29)\n",
    "apply(m3,x_train,x_test,y_train,y_test)"
   ]
  },
  {
   "cell_type": "code",
   "execution_count": 20,
   "id": "dad6906d",
   "metadata": {},
   "outputs": [
    {
     "name": "stdout",
     "output_type": "stream",
     "text": [
      "Predictions\n",
      " [0 1 0 ... 0 0 0]\n",
      "Training Score 0.7943028255528255\n",
      "Testing Score 0.7939505604176262\n",
      "Confusion_matrix\n",
      " [[4698  243]\n",
      " [1099  473]]\n",
      "Classification_report\n",
      "               precision    recall  f1-score   support\n",
      "\n",
      "           0       0.81      0.95      0.88      4941\n",
      "           1       0.66      0.30      0.41      1572\n",
      "\n",
      "    accuracy                           0.79      6513\n",
      "   macro avg       0.74      0.63      0.64      6513\n",
      "weighted avg       0.77      0.79      0.76      6513\n",
      "\n"
     ]
    }
   ],
   "source": [
    "# Logistic Reg\n",
    "m4 = LogisticRegression(solver='liblinear')\n",
    "apply(m4,x_train,x_test,y_train,y_test)"
   ]
  },
  {
   "cell_type": "code",
   "execution_count": null,
   "id": "a9ada27e",
   "metadata": {},
   "outputs": [],
   "source": [
    "# SVM\n",
    "m5 = SVC(kernel='linear',C= 5)\n",
    "apply(m5,x_train,x_test,y_train,y_test)"
   ]
  },
  {
   "cell_type": "markdown",
   "id": "d1b26c2f",
   "metadata": {},
   "source": [
    "### Both Decision Tree and Random Forest had almost same training score but Random Forest had better testing score, Also Random Forest took less time than SVM so overall Random Forest is the Best performing model.\n"
   ]
  },
  {
   "cell_type": "code",
   "execution_count": null,
   "id": "a392baf1",
   "metadata": {},
   "outputs": [],
   "source": []
  }
 ],
 "metadata": {
  "kernelspec": {
   "display_name": "Python 3 (ipykernel)",
   "language": "python",
   "name": "python3"
  },
  "language_info": {
   "codemirror_mode": {
    "name": "ipython",
    "version": 3
   },
   "file_extension": ".py",
   "mimetype": "text/x-python",
   "name": "python",
   "nbconvert_exporter": "python",
   "pygments_lexer": "ipython3",
   "version": "3.10.0"
  }
 },
 "nbformat": 4,
 "nbformat_minor": 5
}
